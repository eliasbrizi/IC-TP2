{
 "metadata": {
  "language_info": {
   "codemirror_mode": {
    "name": "ipython",
    "version": 3
   },
   "file_extension": ".py",
   "mimetype": "text/x-python",
   "name": "python",
   "nbconvert_exporter": "python",
   "pygments_lexer": "ipython3",
   "version": "3.8.5-final"
  },
  "orig_nbformat": 2,
  "kernelspec": {
   "name": "Python 3.8.5 64-bit",
   "display_name": "Python 3.8.5 64-bit",
   "metadata": {
    "interpreter": {
     "hash": "31f2aee4e71d21fbe5cf8b01ff0e069b9275f58929596ceb00d14d90e3e16cd6"
    }
   }
  }
 },
 "nbformat": 4,
 "nbformat_minor": 2,
 "cells": [
  {
   "cell_type": "code",
   "execution_count": null,
   "metadata": {},
   "outputs": [],
   "source": [
    "import random"
   ]
  },
  {
   "cell_type": "code",
   "execution_count": null,
   "metadata": {
    "tags": [
     "outputPrepend"
    ]
   },
   "outputs": [],
   "source": [
    "def seleccion(poblacion):\n",
    "    #TODO hay que ordenar por fitness, agregamos gen?\n",
    "    individuos = []\n",
    "    for n in range(1,len(poblacion)):\n",
    "        individuos.append(poblacion[random.randrange(n)])\n",
    "        while (n%2 == 0 and individuos[n-2][\"entradas\"] == individuos[n-1][\"entradas\"] \n",
    "        and individuos[n-2][\"hidden\"] == individuos[n-1][\"hidden\"]):\n",
    "            individuos[n-1] = poblacion[random.randrange(n)]\n",
    "    return individuos\n",
    "\n",
    "\n",
    "# Prueba de funcion\n",
    "lista_poblacion = []\n",
    "\n",
    "for n in range(1,50):\n",
    "    aux = {\n",
    "        \"entradas\": n,\n",
    "        \"hidden\": n,\n",
    "        \"centers\": []\n",
    "    }\n",
    "    lista_poblacion.append(aux)\n",
    "seleccion(lista_poblacion)"
   ]
  },
  {
   "cell_type": "code",
   "execution_count": null,
   "metadata": {},
   "outputs": [],
   "source": [
    "def cruza_uniforme(individuo_1, individuo_2):\n",
    "    hijo_1 = {\n",
    "        \"entradas\": 0,\n",
    "        \"hidden\": 0,\n",
    "        \"centers\": []\n",
    "    }\n",
    "    hijo_2 = {\n",
    "        \"entradas\": 0,\n",
    "        \"hidden\": 0,\n",
    "        \"centers\": []\n",
    "    }\n",
    "    mask = random.randrange(25) # Numero entero entre 0 y 25\n",
    "    # Calculo del primer hijo\n",
    "    # Aplico mascara para un individuo y el complemento de la mascara al otro y sumo\n",
    "    entradas_aux = (individuo_1[\"entradas\"] & mask) + (individuo_2[\"entradas\"] & ~mask)\n",
    "    hidden_aux = (individuo_1[\"hidden\"] & mask) + (individuo_2[\"hidden\"] & ~mask)\n",
    "    # Linea para la RBF consistente -> neuronas <= inputs\n",
    "    if (hidden_aux > entradas_aux): hidden_aux =hidden_aux & entradas_aux\n",
    "    hijo_1[\"entradas\"] = entradas_aux\n",
    "    hijo_1[\"hidden\"] = hidden_aux \n",
    "    \n",
    "    # Calculo del segundo hijo\n",
    "    entradas_aux = (individuo_1[\"entradas\"] & ~mask) + (individuo_2[\"entradas\"] & mask)\n",
    "    hidden_aux = (individuo_1[\"hidden\"] & ~mask) + (individuo_2[\"hidden\"] & mask)\n",
    "    if (hidden_aux > entradas_aux): hidden_aux =hidden_aux & entradas_aux\n",
    "    hijo_2[\"entradas\"] = entradas_aux\n",
    "    hijo_2[\"hidden\"] = hidden_aux \n",
    "    \n",
    "    return hijo_1,hijo_2\n",
    "\n",
    "\n",
    "# Prueba de funcion\n",
    "aux = {\n",
    "        \"entradas\": 14,\n",
    "        \"hidden\": 15,\n",
    "        \"centers\": []\n",
    "    }\n",
    "aux1 = {\n",
    "        \"entradas\": 9,\n",
    "        \"hidden\": 5,\n",
    "        \"centers\": []\n",
    "    }\n",
    "cruza_uniforme(aux,aux1)"
   ]
  },
  {
   "cell_type": "code",
   "execution_count": null,
   "metadata": {},
   "outputs": [],
   "source": [
    "\n",
    "# Code to demonstrate bitwise operations \n",
    "# Some bytes to play with \n",
    "byte1 = int('11110000', 2)  # 240 \n",
    "byte2 = int('00001111', 2)  # 15 \n",
    "byte3 = int('01010101', 2)  # 85 \n",
    "  \n",
    "# Ones Complement (Flip the bits) \n",
    "print(~byte1) \n",
    "  \n",
    "# AND \n",
    "print(byte1 & byte2) \n",
    "  \n",
    "# OR \n",
    "print(byte1 | byte2) \n",
    "  \n",
    "# XOR \n",
    "print(byte1 ^ byte3) \n",
    "  \n",
    "# Shifting right will lose the  \n",
    "# right-most bit \n",
    "print(byte2 >> 3) \n",
    "  \n",
    "# Shifting left will add a 0 bit  \n",
    "# on the right side \n",
    "print(byte2 << 1) \n",
    "  \n",
    "# See if a single bit is set \n",
    "bit_mask = int('00000001', 2)  # Bit 1 \n",
    "  \n",
    "# Is bit set in byte1? \n",
    "print(bit_mask & byte1) \n",
    "  \n",
    "# Is bit set in byte2? \n",
    "print(bit_mask & byte2)\n"
   ]
  },
  {
   "cell_type": "code",
   "execution_count": null,
   "metadata": {},
   "outputs": [],
   "source": [
    "import numpy as np\n",
    "a = np.linspace(-5, 5, 100).reshape(1,-1)\n",
    "#a[100,-9]\n",
    "for entradas in range(1,3):\n",
    "    test = a[0][-entradas-1:]\n",
    "    print(test) # imprime los n ultimos valores\n",
    "    print(\"eee\",test[:entradas])"
   ]
  },
  {
   "cell_type": "code",
   "execution_count": null,
   "metadata": {},
   "outputs": [],
   "source": [
    "lista_a = [1,2,3,4]\n",
    "lista_b = ['b','a','sd','f']\n",
    "lista_a.extend(lista_b)\n",
    "lista_a = lista_a[:5]\n",
    "print(lista_a)"
   ]
  },
  {
   "cell_type": "code",
   "execution_count": null,
   "metadata": {},
   "outputs": [],
   "source": []
  }
 ]
}