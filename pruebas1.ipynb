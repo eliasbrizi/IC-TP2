{
 "metadata": {
  "language_info": {
   "codemirror_mode": {
    "name": "ipython",
    "version": 3
   },
   "file_extension": ".py",
   "mimetype": "text/x-python",
   "name": "python",
   "nbconvert_exporter": "python",
   "pygments_lexer": "ipython3",
   "version": "3.8.5-final"
  },
  "orig_nbformat": 2,
  "kernelspec": {
   "name": "Python 3.8.5 64-bit",
   "display_name": "Python 3.8.5 64-bit",
   "metadata": {
    "interpreter": {
     "hash": "31f2aee4e71d21fbe5cf8b01ff0e069b9275f58929596ceb00d14d90e3e16cd6"
    }
   }
  }
 },
 "nbformat": 4,
 "nbformat_minor": 2,
 "cells": [
  {
   "cell_type": "code",
   "execution_count": 16,
   "metadata": {},
   "outputs": [
    {
     "output_type": "error",
     "ename": "SyntaxError",
     "evalue": "invalid syntax (<ipython-input-16-c1eb7a3ea6d0>, line 16)",
     "traceback": [
      "\u001b[0;36m  File \u001b[0;32m\"<ipython-input-16-c1eb7a3ea6d0>\"\u001b[0;36m, line \u001b[0;32m16\u001b[0m\n\u001b[0;31m    if (hidden_aux > entradas_aux) hidden_aux =hidden_aux & entradas_aux\u001b[0m\n\u001b[0m                                   ^\u001b[0m\n\u001b[0;31mSyntaxError\u001b[0m\u001b[0;31m:\u001b[0m invalid syntax\n"
     ]
    }
   ],
   "source": [
    "def cruza_uniforme(individuo_1, individuo_2):\n",
    "    hijo_1 = {\n",
    "        \"entradas\": 0,\n",
    "        \"hidden\": 0,\n",
    "        \"centers\": []\n",
    "    }\n",
    "    hijo_2 = {\n",
    "        \"entradas\": 0,\n",
    "        \"hidden\": 0,\n",
    "        \"centers\": []\n",
    "    }\n",
    "    mask = randrange(25) # Numero entero entre 0 y 25\n",
    "    # Calculo del primer hijo\n",
    "    entradas_aux = (individuo_1[\"entradas\"] & mask) + (individuo_2[\"entradas\"] & ~mask)\n",
    "    hidden_aux = (individuo_1[\"hidden\"] & mask) + (individuo_2[\"hidden\"] & ~mask)\n",
    "    if (hidden_aux > entradas_aux): hidden_aux =hidden_aux & entradas_aux\n",
    "    hijo_1[\"entradas\"] = entradas_aux\n",
    "    hijo_1[\"hidden\"] = hidden_aux \n",
    "    # Calculo del segundo hijo\n",
    "    entradas_aux = (individuo_1[\"entradas\"] & ~mask) + (individuo_2[\"entradas\"] & mask)\n",
    "    hidden_aux = (individuo_1[\"hidden\"] & ~mask) + (individuo_2[\"hidden\"] & mask)\n",
    "    if (hidden_aux > entradas_aux): hidden_aux =hidden_aux & entradas_aux\n",
    "    hijo_2[\"entradas\"] = entradas_aux\n",
    "    hijo_2[\"hidden\"] = hidden_aux \n",
    "    \n",
    "    #BORRAR\n",
    "    print(mask)\n",
    "    print(hijo_1)\n",
    "    print(hijo_2)\n",
    "\n",
    "lista_poblacion = []\n",
    "\n",
    "for n in range(1,6):\n",
    "    aux = {\n",
    "        \"entradas\": n,\n",
    "        \"hidden\": n,\n",
    "        \"centers\": []\n",
    "    }\n",
    "    lista_poblacion.append(aux)\n",
    "print(lista_poblacion[3])\n",
    "print(lista_poblacion[4])\n",
    "cruza_uniforme(lista_poblacion[3],lista_poblacion[4])"
   ]
  },
  {
   "cell_type": "code",
   "execution_count": 5,
   "metadata": {},
   "outputs": [
    {
     "output_type": "stream",
     "name": "stdout",
     "text": [
      "-241\n0\n255\n165\n1\n30\n0\n1\n"
     ]
    }
   ],
   "source": [
    "\n",
    "# Code to demonstrate bitwise operations \n",
    "# Some bytes to play with \n",
    "byte1 = int('11110000', 2)  # 240 \n",
    "byte2 = int('00001111', 2)  # 15 \n",
    "byte3 = int('01010101', 2)  # 85 \n",
    "  \n",
    "# Ones Complement (Flip the bits) \n",
    "print(~byte1) \n",
    "  \n",
    "# AND \n",
    "print(byte1 & byte2) \n",
    "  \n",
    "# OR \n",
    "print(byte1 | byte2) \n",
    "  \n",
    "# XOR \n",
    "print(byte1 ^ byte3) \n",
    "  \n",
    "# Shifting right will lose the  \n",
    "# right-most bit \n",
    "print(byte2 >> 3) \n",
    "  \n",
    "# Shifting left will add a 0 bit  \n",
    "# on the right side \n",
    "print(byte2 << 1) \n",
    "  \n",
    "# See if a single bit is set \n",
    "bit_mask = int('00000001', 2)  # Bit 1 \n",
    "  \n",
    "# Is bit set in byte1? \n",
    "print(bit_mask & byte1) \n",
    "  \n",
    "# Is bit set in byte2? \n",
    "print(bit_mask & byte2)\n"
   ]
  },
  {
   "cell_type": "code",
   "execution_count": null,
   "metadata": {},
   "outputs": [],
   "source": []
  }
 ]
}